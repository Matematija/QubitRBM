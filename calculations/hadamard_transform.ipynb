{
 "cells": [
  {
   "cell_type": "code",
   "execution_count": 1,
   "metadata": {},
   "outputs": [],
   "source": [
    "import numpy as np\n",
    "import matplotlib.pyplot as plt\n",
    "%matplotlib inline\n",
    "\n",
    "import sys, os"
   ]
  },
  {
   "cell_type": "code",
   "execution_count": 2,
   "metadata": {},
   "outputs": [],
   "source": [
    "sys.path.append(os.path.abspath('..'))"
   ]
  },
  {
   "cell_type": "code",
   "execution_count": 3,
   "metadata": {},
   "outputs": [],
   "source": [
    "from QubitRBM.rbm import *\n",
    "from QubitRBM.optimize import *\n",
    "from QubitRBM.exact_gates import H"
   ]
  },
  {
   "cell_type": "code",
   "execution_count": 4,
   "metadata": {},
   "outputs": [],
   "source": [
    "nv = 10\n",
    "nh = 4*nv"
   ]
  },
  {
   "cell_type": "code",
   "execution_count": 5,
   "metadata": {},
   "outputs": [],
   "source": [
    "logpsi = RBM(nv, nh)"
   ]
  },
  {
   "cell_type": "code",
   "execution_count": 6,
   "metadata": {},
   "outputs": [],
   "source": [
    "logpsi.rand_init_weights()"
   ]
  },
  {
   "cell_type": "code",
   "execution_count": 7,
   "metadata": {},
   "outputs": [],
   "source": [
    "psi0 = logpsi.get_state_vector(log=False, normalized=True)\n",
    "phi = H(n=range(nv), n_qubits=nv).dot(psi0)"
   ]
  },
  {
   "cell_type": "code",
   "execution_count": 8,
   "metadata": {},
   "outputs": [
    {
     "data": {
      "text/plain": [
       "0.0009230390675899102955"
      ]
     },
     "execution_count": 8,
     "metadata": {},
     "output_type": "execute_result"
    }
   ],
   "source": [
    "utils.exact_fidelity(psi0, phi)"
   ]
  },
  {
   "cell_type": "code",
   "execution_count": 9,
   "metadata": {
    "scrolled": false
   },
   "outputs": [
    {
     "name": "stdout",
     "output_type": "stream",
     "text": [
      "Iteration 89 | Fidelity = 0.8176107611203313 | lr = 0.008147042840208396\n",
      "Iteration 181 | Fidelity = 0.9672571898852418 | lr = 0.0065917389524432135\n",
      "Iteration 274 | Fidelity = 0.9218780129285307 | lr = 0.005321082592667942\n",
      "Iteration 366 | Fidelity = 0.9878718696083116 | lr = 0.004305266104917106\n",
      "Iteration 459 | Fidelity = 1.0001831447562353 | lr = 0.0034753616144320583\n",
      "Iteration 551 | Fidelity = 1.0002189247620166 | lr = 0.003\n",
      "Iteration 643 | Fidelity = 0.9986415140985722 | lr = 0.003\n",
      "Iteration 735 | Fidelity = 0.9899630114722486 | lr = 0.003\n",
      "Iteration 824 | Fidelity = 0.9999233866866334 | lr = 0.003\n",
      "Qubit 1 done!\n",
      "Iteration 89 | Fidelity = 0.9441196929615844 | lr = 0.008147042840208396\n",
      "Iteration 180 | Fidelity = 0.9825184764447101 | lr = 0.00660693448007596\n",
      "Iteration 273 | Fidelity = 0.9966715669267129 | lr = 0.005333348954876209\n",
      "Iteration 366 | Fidelity = 0.9986029674673212 | lr = 0.004305266104917106\n",
      "Iteration 459 | Fidelity = 0.9996482408131406 | lr = 0.0034753616144320583\n",
      "Iteration 552 | Fidelity = 0.9998215765389793 | lr = 0.003\n",
      "Qubit 2 done!\n",
      "Iteration 93 | Fidelity = 0.9101313101661376 | lr = 0.008072350302488382\n",
      "Iteration 184 | Fidelity = 0.9905424150087988 | lr = 0.006546361740672749\n",
      "Iteration 272 | Fidelity = 0.9969278239375575 | lr = 0.005345643593969717\n",
      "Iteration 365 | Fidelity = 0.9978860508045229 | lr = 0.004315190768277652\n",
      "Iteration 458 | Fidelity = 0.9967921813248416 | lr = 0.0034833731503601173\n",
      "Iteration 546 | Fidelity = 0.999854448545178 | lr = 0.003\n",
      "Qubit 3 done!\n",
      "Iteration 93 | Fidelity = 0.906873031128253 | lr = 0.008072350302488382\n",
      "Iteration 186 | Fidelity = 0.9962183449421901 | lr = 0.0065162839406084265\n",
      "Iteration 278 | Fidelity = 0.9998889217584715 | lr = 0.005272298614228227\n",
      "Iteration 370 | Fidelity = 1.0008785675295833 | lr = 0.004265795188015926\n",
      "Iteration 463 | Fidelity = 1.0004133285167605 | lr = 0.003443499307633384\n",
      "Qubit 4 done!\n",
      "Iteration 93 | Fidelity = 0.7441785201103067 | lr = 0.008072350302488382\n",
      "Iteration 186 | Fidelity = 0.998073333948462 | lr = 0.0065162839406084265\n",
      "Iteration 280 | Fidelity = 0.9931769772508606 | lr = 0.0052480746024977255\n",
      "Iteration 373 | Fidelity = 0.9704813411197566 | lr = 0.004236429660495411\n",
      "Iteration 466 | Fidelity = 0.9428967749613558 | lr = 0.003419794425137088\n",
      "Qubit 5 done!\n",
      "Iteration 94 | Fidelity = 0.7069828424975784 | lr = 0.008053784411990665\n",
      "Iteration 188 | Fidelity = 0.9848193849031318 | lr = 0.006486344335482384\n",
      "Iteration 282 | Fidelity = 0.9997072678978958 | lr = 0.005223961889991198\n",
      "Iteration 375 | Fidelity = 0.9978460712919299 | lr = 0.004216965034285822\n",
      "Iteration 468 | Fidelity = 0.9960487587866403 | lr = 0.0034040818970100086\n",
      "Iteration 560 | Fidelity = 0.9991118267974535 | lr = 0.003\n",
      "Iteration 653 | Fidelity = 0.9998376325375475 | lr = 0.003\n",
      "Iteration 746 | Fidelity = 0.9990626014246204 | lr = 0.003\n",
      "Iteration 839 | Fidelity = 0.9997941178802169 | lr = 0.003\n",
      "Iteration 932 | Fidelity = 0.9955739561513235 | lr = 0.003\n",
      "Iteration 1025 | Fidelity = 1.0000923658563459 | lr = 0.003\n",
      "Iteration 1119 | Fidelity = 0.999775058204559 | lr = 0.003\n",
      "Iteration 1211 | Fidelity = 1.000051738887003 | lr = 0.003\n",
      "Iteration 1304 | Fidelity = 0.9910311489904784 | lr = 0.003\n",
      "Iteration 1396 | Fidelity = 0.9996662177177906 | lr = 0.003\n",
      "Iteration 1490 | Fidelity = 0.9997868427170893 | lr = 0.003\n",
      "Iteration 1584 | Fidelity = 0.9999984794153481 | lr = 0.003\n",
      "Qubit 6 done!\n",
      "Iteration 85 | Fidelity = 0.440067602649413 | lr = 0.008222426499470711\n",
      "Iteration 178 | Fidelity = 0.6796093669525747 | lr = 0.006637430704019088\n",
      "Iteration 271 | Fidelity = 0.8232224260742571 | lr = 0.005357966575133415\n",
      "Iteration 364 | Fidelity = 0.8956494092302695 | lr = 0.004325138310350086\n",
      "Iteration 456 | Fidelity = 0.9062761523027448 | lr = 0.0034994516702835723\n",
      "Iteration 547 | Fidelity = 0.9302826708455098 | lr = 0.003\n",
      "Iteration 641 | Fidelity = 0.9320263939402901 | lr = 0.003\n",
      "Iteration 734 | Fidelity = 0.9481661486895385 | lr = 0.003\n",
      "Iteration 828 | Fidelity = 0.9594528422641663 | lr = 0.003\n",
      "Iteration 922 | Fidelity = 0.9643611976178497 | lr = 0.003\n",
      "Iteration 1012 | Fidelity = 0.9672402428808892 | lr = 0.003\n",
      "Iteration 1105 | Fidelity = 0.971494050476069 | lr = 0.003\n",
      "Iteration 1193 | Fidelity = 0.9775989134854305 | lr = 0.003\n",
      "Iteration 1274 | Fidelity = 0.9805287379618196 | lr = 0.003\n",
      "Iteration 1363 | Fidelity = 0.9891076770389392 | lr = 0.003\n",
      "Iteration 1450 | Fidelity = 0.9850696828849423 | lr = 0.003\n",
      "Iteration 1544 | Fidelity = 0.9881230195212094 | lr = 0.003\n",
      "Qubit 7 done!\n",
      "Iteration 88 | Fidelity = 0.8352359372818855 | lr = 0.008165823713585924\n",
      "Iteration 174 | Fidelity = 0.9400128225668672 | lr = 0.006698846094165264\n",
      "Iteration 260 | Fidelity = 0.9732275578805142 | lr = 0.0054954087385762455\n",
      "Iteration 348 | Fidelity = 0.9759591206704542 | lr = 0.004487453899331321\n",
      "Iteration 436 | Fidelity = 0.9888857464234929 | lr = 0.0036643757464783324\n",
      "Iteration 530 | Fidelity = 0.9864158484638053 | lr = 0.003\n",
      "Iteration 624 | Fidelity = 0.9950149567322528 | lr = 0.003\n",
      "Iteration 717 | Fidelity = 0.9941672752570571 | lr = 0.003\n",
      "Iteration 808 | Fidelity = 0.9946309904674978 | lr = 0.003\n",
      "Iteration 896 | Fidelity = 0.9951179631235287 | lr = 0.003\n",
      "Iteration 967 | Fidelity = 0.9956829989246005 | lr = 0.003\n",
      "Iteration 1053 | Fidelity = 0.9946708747348977 | lr = 0.003\n",
      "Qubit 8 done!\n",
      "Iteration 81 | Fidelity = 0.9440712822915636 | lr = 0.008298507675144225\n",
      "Iteration 167 | Fidelity = 0.9744131811388229 | lr = 0.0068076935869374145\n",
      "Iteration 260 | Fidelity = 0.9885159778058237 | lr = 0.0054954087385762455\n",
      "Iteration 354 | Fidelity = 0.9920827698570556 | lr = 0.004425883723626265\n",
      "Iteration 447 | Fidelity = 0.9987741888056347 | lr = 0.003572728381519289\n",
      "Iteration 541 | Fidelity = 0.9970918993299634 | lr = 0.003\n",
      "Iteration 635 | Fidelity = 0.9989507496082328 | lr = 0.003\n",
      "Iteration 724 | Fidelity = 0.9973004036778612 | lr = 0.003\n",
      "Iteration 815 | Fidelity = 0.9990411862409343 | lr = 0.003\n",
      "Iteration 906 | Fidelity = 0.9979172832507096 | lr = 0.003\n",
      "Qubit 9 done!\n",
      "Iteration 92 | Fidelity = 0.2600462912538023 | lr = 0.008090958991783824\n",
      "Iteration 184 | Fidelity = 0.5033537039953874 | lr = 0.006546361740672749\n",
      "Iteration 275 | Fidelity = 0.7340279308778791 | lr = 0.005308844442309883\n",
      "Iteration 368 | Fidelity = 0.8873220063816831 | lr = 0.004285485203974395\n",
      "Iteration 455 | Fidelity = 0.8996235669815732 | lr = 0.0035075187395256797\n",
      "Iteration 545 | Fidelity = 0.9219968517180683 | lr = 0.003\n",
      "Iteration 633 | Fidelity = 0.935769369344102 | lr = 0.003\n",
      "Iteration 727 | Fidelity = 0.9470474573933002 | lr = 0.003\n",
      "Iteration 817 | Fidelity = 0.9497461959496245 | lr = 0.003\n",
      "Iteration 905 | Fidelity = 0.9576559735054021 | lr = 0.003\n",
      "Iteration 997 | Fidelity = 0.9646348051371949 | lr = 0.003\n",
      "Iteration 1090 | Fidelity = 0.9706334020043533 | lr = 0.003\n",
      "Iteration 1182 | Fidelity = 0.9940483812072022 | lr = 0.003\n",
      "Iteration 1274 | Fidelity = 0.981761091977475 | lr = 0.003\n",
      "Iteration 1367 | Fidelity = 0.9952279471739263 | lr = 0.003\n",
      "Iteration 1456 | Fidelity = 0.9912953939062364 | lr = 0.003\n",
      "Qubit 10 done!\n",
      "CPU times: user 44min 51s, sys: 4min 46s, total: 49min 37s\n",
      "Wall time: 18min 7s\n"
     ]
    }
   ],
   "source": [
    "%%time\n",
    "\n",
    "for n in range(nv):\n",
    "\n",
    "    a, b, W, _ = hadamard_optimization(logpsi, n, lr_min=0.003, verbose=True)\n",
    "    logpsi.set_params(a, b, W)\n",
    "    \n",
    "    print('Qubit {} done!'.format(n+1))"
   ]
  },
  {
   "cell_type": "code",
   "execution_count": 10,
   "metadata": {},
   "outputs": [],
   "source": [
    "psi = logpsi.get_state_vector(log=False, normalized=True)"
   ]
  },
  {
   "cell_type": "code",
   "execution_count": 11,
   "metadata": {},
   "outputs": [
    {
     "data": {
      "text/plain": [
       "0.97619503266886120674"
      ]
     },
     "execution_count": 11,
     "metadata": {},
     "output_type": "execute_result"
    }
   ],
   "source": [
    "utils.exact_fidelity(psi, phi)"
   ]
  },
  {
   "cell_type": "code",
   "execution_count": null,
   "metadata": {},
   "outputs": [],
   "source": []
  }
 ],
 "metadata": {
  "kernelspec": {
   "display_name": "QubitRBM",
   "language": "python",
   "name": "qubitrbm"
  },
  "language_info": {
   "codemirror_mode": {
    "name": "ipython",
    "version": 3
   },
   "file_extension": ".py",
   "mimetype": "text/x-python",
   "name": "python",
   "nbconvert_exporter": "python",
   "pygments_lexer": "ipython3",
   "version": "3.7.4"
  }
 },
 "nbformat": 4,
 "nbformat_minor": 4
}
