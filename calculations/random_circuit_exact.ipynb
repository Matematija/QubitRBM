{
 "cells": [
  {
   "cell_type": "code",
   "execution_count": 1,
   "metadata": {},
   "outputs": [],
   "source": [
    "import numpy as np\n",
    "import matplotlib.pyplot as plt\n",
    "%matplotlib inline\n",
    "\n",
    "import qiskit\n",
    "from qiskit import Aer"
   ]
  },
  {
   "cell_type": "markdown",
   "metadata": {},
   "source": [
    "## Defining the circuit"
   ]
  },
  {
   "cell_type": "code",
   "execution_count": 2,
   "metadata": {},
   "outputs": [],
   "source": [
    "n_qubits = 12\n",
    "depth = 200\n",
    "gates = [('RZZ', 2), ('RZ', 1), ('P', 1)]"
   ]
  },
  {
   "cell_type": "code",
   "execution_count": 3,
   "metadata": {},
   "outputs": [],
   "source": [
    "qubits = qiskit.QuantumRegister(size=n_qubits, name='q')"
   ]
  },
  {
   "cell_type": "code",
   "execution_count": 4,
   "metadata": {},
   "outputs": [],
   "source": [
    "circ = qiskit.QuantumCircuit(qubits)"
   ]
  },
  {
   "cell_type": "markdown",
   "metadata": {},
   "source": [
    "The initial Hadamard transform:"
   ]
  },
  {
   "cell_type": "code",
   "execution_count": 5,
   "metadata": {},
   "outputs": [
    {
     "data": {
      "text/plain": [
       "<qiskit.circuit.instructionset.InstructionSet at 0x121144c90>"
      ]
     },
     "execution_count": 5,
     "metadata": {},
     "output_type": "execute_result"
    }
   ],
   "source": [
    "circ.h(qubits)"
   ]
  },
  {
   "cell_type": "markdown",
   "metadata": {},
   "source": [
    "We are randomly choosing between the following gates:\n",
    "    \n",
    "$$ RZ (\\phi) = \n",
    "\\begin{bmatrix}\n",
    "1 & 0\\\\\n",
    "0 & e^{i \\phi}\n",
    "\\end{bmatrix}\n",
    "\\; ; \\qquad\n",
    "P (\\phi) = RZ(\\phi) X = \n",
    "\\begin{bmatrix}\n",
    "0 & 1\\\\\n",
    "e^{i \\phi} & 0\n",
    "\\end{bmatrix} $$\n",
    "\n",
    "and a 2-qubit gate:\n",
    "\n",
    "$$\n",
    "RZZ (\\phi) = \n",
    "\\begin{bmatrix}\n",
    "1 & 0 & 0 & 0\\\\\n",
    "0 & e^{i \\phi} & 0 & 0 \\\\\n",
    "0 & 0 & e^{i \\phi} & 0 \\\\\n",
    "0 & 0 & 0 & 1 \\\\\n",
    "\\end{bmatrix}\n",
    "$$\n",
    "\n",
    "where $\\phi$ is independently chosen as $\\phi \\sim \\text{Uniform} (0, 2\\pi )$ each time."
   ]
  },
  {
   "cell_type": "code",
   "execution_count": 6,
   "metadata": {},
   "outputs": [],
   "source": [
    "for k in range(depth):\n",
    "    \n",
    "    i = np.random.randint(low=0, high=len(gates))\n",
    "    gate, nqs = gates[i]\n",
    "    \n",
    "    qs = np.random.choice(np.arange(n_qubits), size=nqs, replace=False)\n",
    "    phi = np.random.uniform(low=0.0, high=2*np.pi)\n",
    "    \n",
    "    if gate=='RZ':\n",
    "        circ.rz(phi, *qs)  \n",
    "    elif gate=='RZZ':\n",
    "        circ.rzz(phi, *qs)  \n",
    "    elif gate=='P':\n",
    "        circ.x(*qs)\n",
    "        circ.rz(phi, *qs)"
   ]
  },
  {
   "cell_type": "markdown",
   "metadata": {},
   "source": [
    "The final circuit diagram can be drawn with:"
   ]
  },
  {
   "cell_type": "code",
   "execution_count": 7,
   "metadata": {
    "scrolled": false
   },
   "outputs": [],
   "source": [
    "# circ.draw()"
   ]
  },
  {
   "cell_type": "markdown",
   "metadata": {},
   "source": [
    "(up to the final hadamard transform)"
   ]
  },
  {
   "cell_type": "markdown",
   "metadata": {},
   "source": [
    "## Simulating the circuit"
   ]
  },
  {
   "cell_type": "code",
   "execution_count": 8,
   "metadata": {},
   "outputs": [],
   "source": [
    "backend = Aer.get_backend('statevector_simulator')"
   ]
  },
  {
   "cell_type": "markdown",
   "metadata": {},
   "source": [
    "Simulate first without the final Hadamard transform:"
   ]
  },
  {
   "cell_type": "code",
   "execution_count": 9,
   "metadata": {},
   "outputs": [
    {
     "name": "stdout",
     "output_type": "stream",
     "text": [
      "CPU times: user 241 ms, sys: 3.88 ms, total: 245 ms\n",
      "Wall time: 244 ms\n"
     ]
    }
   ],
   "source": [
    "%%time\n",
    "job = qiskit.execute(circ, backend)"
   ]
  },
  {
   "cell_type": "code",
   "execution_count": 10,
   "metadata": {},
   "outputs": [],
   "source": [
    "result = job.result()\n",
    "psi = result.get_statevector(circ, decimals=30) # This \"decimals\" argument was set to 10 which was too low!\n",
    "p = np.abs(psi)**2"
   ]
  },
  {
   "cell_type": "markdown",
   "metadata": {},
   "source": [
    "Do a final Hadamard transform for comparison:"
   ]
  },
  {
   "cell_type": "code",
   "execution_count": 11,
   "metadata": {},
   "outputs": [
    {
     "data": {
      "text/plain": [
       "<qiskit.circuit.instructionset.InstructionSet at 0x1212a8790>"
      ]
     },
     "execution_count": 11,
     "metadata": {},
     "output_type": "execute_result"
    }
   ],
   "source": [
    "circ.h(qubits)"
   ]
  },
  {
   "cell_type": "code",
   "execution_count": 12,
   "metadata": {},
   "outputs": [
    {
     "name": "stdout",
     "output_type": "stream",
     "text": [
      "CPU times: user 181 ms, sys: 3.07 ms, total: 184 ms\n",
      "Wall time: 184 ms\n"
     ]
    }
   ],
   "source": [
    "%%time\n",
    "jobh = qiskit.execute(circ, backend)"
   ]
  },
  {
   "cell_type": "code",
   "execution_count": 13,
   "metadata": {},
   "outputs": [],
   "source": [
    "resulth = jobh.result()\n",
    "psih = resulth.get_statevector(circ, decimals=30) # This \"decimals\" argument was set to 10 which was too low!\n",
    "ph = np.abs(psih)**2"
   ]
  },
  {
   "cell_type": "markdown",
   "metadata": {},
   "source": [
    "Plot the result:"
   ]
  },
  {
   "cell_type": "code",
   "execution_count": 14,
   "metadata": {},
   "outputs": [
    {
     "data": {
      "image/png": "[encoded data removed]",
      "text/plain": [
       "<Figure size 1296x504 with 2 Axes>"
      ]
     },
     "metadata": {
      "needs_background": "light"
     },
     "output_type": "display_data"
    }
   ],
   "source": [
    "fig, axes = plt.subplots(ncols=2, sharey=True, figsize=[18,7])\n",
    "\n",
    "titles = ['No final Hadamard transform', 'Final Hadamard transform']\n",
    "colors = ['firebrick', 'darkgreen']\n",
    "\n",
    "for i, (ax, probs, title, color) in enumerate(zip(axes, [p, ph], titles, colors)):\n",
    "    ax.set_yscale('log')\n",
    "    ax.hist(probs, bins='sqrt', lw=0.25, color=color, edgecolor=color, alpha=0.8)\n",
    "\n",
    "    ax.set_xlabel(r'$\\vert \\psi \\vert ^2 $', fontsize=20)\n",
    "    ax.set_title(title, fontsize=20)\n",
    "    ax.tick_params(axis='both', which='major', labelsize=20)\n",
    "    \n",
    "    if i==0:\n",
    "        ax.set_ylabel(r'Bin count', fontsize=20)\n",
    "    if i==1:\n",
    "        ax.set_xlim(0)\n",
    "        ax.tick_params(axis='x', rotation=90)\n",
    "    \n",
    "#     minp, maxp = np.min(p), np.max(p)\n",
    "#     ax.axvline(x=minp, c='k', ls='--')\n",
    "#     ax.axvline(x=maxp, c='k', ls='--')\n",
    "\n",
    "fig.suptitle(r'Exact simulation: {} qubits, {} gates'.format(n_qubits, depth), fontsize=30)\n",
    "plt.tight_layout(rect=[0, 0.03, 1, 0.9])\n",
    "\n",
    "# plt.savefig('porter_thomas.pdf')"
   ]
  },
  {
   "cell_type": "code",
   "execution_count": null,
   "metadata": {},
   "outputs": [],
   "source": []
  }
 ],
 "metadata": {
  "kernelspec": {
   "display_name": "QubitRBM",
   "language": "python",
   "name": "qubitrbm"
  },
  "language_info": {
   "codemirror_mode": {
    "name": "ipython",
    "version": 3
   },
   "file_extension": ".py",
   "mimetype": "text/x-python",
   "name": "python",
   "nbconvert_exporter": "python",
   "pygments_lexer": "ipython3",
   "version": "3.7.4"
  }
 },
 "nbformat": 4,
 "nbformat_minor": 4
}
