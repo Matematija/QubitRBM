{
 "cells": [
  {
   "cell_type": "code",
   "execution_count": 1,
   "metadata": {
    "scrolled": true
   },
   "outputs": [],
   "source": [
    "import numpy as np\n",
    "from scipy import sparse\n",
    "from math import floor\n",
    "\n",
    "import qiskit\n",
    "from qiskit import Aer\n",
    "\n",
    "import matplotlib.pyplot as plt\n",
    "%matplotlib inline\n",
    "\n",
    "import sys, os"
   ]
  },
  {
   "cell_type": "code",
   "execution_count": 2,
   "metadata": {
    "scrolled": true
   },
   "outputs": [],
   "source": [
    "sys.path.append(os.path.abspath('..'))"
   ]
  },
  {
   "cell_type": "code",
   "execution_count": 3,
   "metadata": {
    "scrolled": true
   },
   "outputs": [],
   "source": [
    "from QubitRBM.optimize import *\n",
    "import QubitRBM.exact_gates as eg\n",
    "import QubitRBM.utils as utils\n",
    "from QubitRBM.rbm2 import *"
   ]
  },
  {
   "cell_type": "code",
   "execution_count": 4,
   "metadata": {
    "scrolled": true
   },
   "outputs": [],
   "source": [
    "nv = 10\n",
    "nh = 0 # to start off with, we can add more later"
   ]
  },
  {
   "cell_type": "code",
   "execution_count": 5,
   "metadata": {
    "scrolled": true
   },
   "outputs": [],
   "source": [
    "depth = 100\n",
    "gates = [('RZZ', 2), ('RZ', 1), ('P', 1)]"
   ]
  },
  {
   "cell_type": "code",
   "execution_count": 6,
   "metadata": {
    "scrolled": true
   },
   "outputs": [],
   "source": [
    "logpsi = RBM(nv, nh)"
   ]
  },
  {
   "cell_type": "code",
   "execution_count": 7,
   "metadata": {
    "scrolled": true
   },
   "outputs": [],
   "source": [
    "psi0 = logpsi.get_state_vector(normalized=True)"
   ]
  },
  {
   "cell_type": "code",
   "execution_count": 8,
   "metadata": {
    "scrolled": true
   },
   "outputs": [],
   "source": [
    "qubits = qiskit.QuantumRegister(size=nv, name='q')\n",
    "circ = qiskit.QuantumCircuit(qubits)"
   ]
  },
  {
   "cell_type": "code",
   "execution_count": 9,
   "metadata": {
    "scrolled": true
   },
   "outputs": [
    {
     "data": {
      "text/plain": [
       "<qiskit.circuit.instructionset.InstructionSet at 0x124099890>"
      ]
     },
     "execution_count": 9,
     "metadata": {},
     "output_type": "execute_result"
    }
   ],
   "source": [
    "circ.h(qubits)"
   ]
  },
  {
   "cell_type": "code",
   "execution_count": 10,
   "metadata": {
    "scrolled": true
   },
   "outputs": [],
   "source": [
    "psi_scipy = psi0.copy()"
   ]
  },
  {
   "cell_type": "code",
   "execution_count": 11,
   "metadata": {
    "scrolled": true
   },
   "outputs": [
    {
     "name": "stdout",
     "output_type": "stream",
     "text": [
      "CPU times: user 907 ms, sys: 90.2 ms, total: 997 ms\n",
      "Wall time: 1.01 s\n"
     ]
    }
   ],
   "source": [
    "%%time\n",
    "\n",
    "for k in range(depth):\n",
    "    \n",
    "    i = np.random.randint(low=0, high=len(gates))\n",
    "    gate, nqs = gates[i]\n",
    "    \n",
    "    qs = np.random.choice(np.arange(nv), size=nqs, replace=False)\n",
    "    phi = np.random.uniform(low=-np.pi, high=np.pi)\n",
    "    \n",
    "    if gate=='RZ':\n",
    "        logpsi.RZ(*qs, phi)\n",
    "        psi_scipy = eg.RZ(phi, *qs, nv).dot(psi_scipy)\n",
    "        circ.rz(phi, *qs)\n",
    "    elif gate=='RZZ':\n",
    "        logpsi.RZZ(*qs, phi)\n",
    "        psi_scipy = eg.RZZ(phi, *qs, nv).dot(psi_scipy)\n",
    "        circ.rzz(phi, *qs)\n",
    "    elif gate=='P':\n",
    "        logpsi.P(*qs, phi)\n",
    "        psi_scipy = eg.P(phi, *qs, nv).dot(psi_scipy)\n",
    "        circ.x(*qs)\n",
    "        circ.rz(phi, *qs)"
   ]
  },
  {
   "cell_type": "code",
   "execution_count": 12,
   "metadata": {
    "scrolled": true
   },
   "outputs": [],
   "source": [
    "logpsi.fold_imag_params()"
   ]
  },
  {
   "cell_type": "code",
   "execution_count": 13,
   "metadata": {
    "scrolled": true
   },
   "outputs": [],
   "source": [
    "psi = logpsi.get_state_vector(normalized=True)"
   ]
  },
  {
   "cell_type": "code",
   "execution_count": 14,
   "metadata": {
    "scrolled": true
   },
   "outputs": [],
   "source": [
    "# backend = Aer.get_backend('statevector_simulator')"
   ]
  },
  {
   "cell_type": "code",
   "execution_count": 15,
   "metadata": {
    "scrolled": true
   },
   "outputs": [],
   "source": [
    "# %%time\n",
    "# job = qiskit.execute(circ, backend)\n",
    "# phi = job.result().get_statevector(circ, decimals=30)"
   ]
  },
  {
   "cell_type": "code",
   "execution_count": 16,
   "metadata": {
    "scrolled": true
   },
   "outputs": [],
   "source": [
    "# utils.exact_fidelity(psi, phi)"
   ]
  },
  {
   "cell_type": "code",
   "execution_count": 17,
   "metadata": {
    "scrolled": true
   },
   "outputs": [
    {
     "data": {
      "text/plain": [
       "0.9999999999999993"
      ]
     },
     "execution_count": 17,
     "metadata": {},
     "output_type": "execute_result"
    }
   ],
   "source": [
    "utils.exact_fidelity(psi, psi_scipy)"
   ]
  },
  {
   "cell_type": "markdown",
   "metadata": {},
   "source": [
    "What to expect after the Hadamard transform:"
   ]
  },
  {
   "cell_type": "code",
   "execution_count": 18,
   "metadata": {
    "scrolled": true
   },
   "outputs": [
    {
     "data": {
      "text/plain": [
       "<qiskit.circuit.instructionset.InstructionSet at 0x124093290>"
      ]
     },
     "execution_count": 18,
     "metadata": {},
     "output_type": "execute_result"
    }
   ],
   "source": [
    "circ.h(qubits)"
   ]
  },
  {
   "cell_type": "code",
   "execution_count": 19,
   "metadata": {
    "scrolled": true
   },
   "outputs": [],
   "source": [
    "backend = Aer.get_backend('statevector_simulator')"
   ]
  },
  {
   "cell_type": "code",
   "execution_count": 20,
   "metadata": {
    "scrolled": true
   },
   "outputs": [
    {
     "name": "stdout",
     "output_type": "stream",
     "text": [
      "CPU times: user 172 ms, sys: 4.68 ms, total: 177 ms\n",
      "Wall time: 177 ms\n"
     ]
    }
   ],
   "source": [
    "%%time\n",
    "job = qiskit.execute(circ, backend)\n",
    "result = job.result()\n",
    "psi_exact = result.get_statevector(circ, decimals=50)"
   ]
  },
  {
   "cell_type": "code",
   "execution_count": 21,
   "metadata": {
    "scrolled": true
   },
   "outputs": [],
   "source": [
    "p_exact = np.abs(psi_exact)**2"
   ]
  },
  {
   "cell_type": "code",
   "execution_count": 22,
   "metadata": {
    "scrolled": true
   },
   "outputs": [
    {
     "data": {
      "text/plain": [
       "0.9999999999999996"
      ]
     },
     "execution_count": 22,
     "metadata": {},
     "output_type": "execute_result"
    }
   ],
   "source": [
    "p_exact.sum()"
   ]
  },
  {
   "cell_type": "code",
   "execution_count": 23,
   "metadata": {
    "scrolled": false
   },
   "outputs": [
    {
     "data": {
      "image/png": "[encoded data removed]",
      "text/plain": [
       "<Figure size 720x432 with 1 Axes>"
      ]
     },
     "metadata": {
      "needs_background": "light"
     },
     "output_type": "display_data"
    }
   ],
   "source": [
    "color = 'forestgreen'\n",
    "\n",
    "fig, ax = plt.subplots(figsize=[10,6])\n",
    "\n",
    "ax.set_yscale('log')\n",
    "ax.hist(p_exact, bins='sqrt', lw=0.25, color=color, edgecolor=color, alpha=0.6)\n",
    "\n",
    "ax.set_xlim(0)\n",
    "\n",
    "ax.set_xlabel(r'$\\vert \\psi \\vert ^2 $', fontsize=20)\n",
    "ax.set_ylabel(r'Bin count', fontsize=20)\n",
    "ax.tick_params(axis='both', which='major', labelsize=20)"
   ]
  },
  {
   "cell_type": "markdown",
   "metadata": {},
   "source": [
    "The SciPy version:"
   ]
  },
  {
   "cell_type": "code",
   "execution_count": 24,
   "metadata": {
    "scrolled": true
   },
   "outputs": [],
   "source": [
    "psi_scipy = eg.H(n=range(nv), n_qubits=nv).dot(psi_scipy)"
   ]
  },
  {
   "cell_type": "code",
   "execution_count": 25,
   "metadata": {
    "scrolled": true
   },
   "outputs": [],
   "source": [
    "p_scipy = np.abs(psi_scipy)**2"
   ]
  },
  {
   "cell_type": "code",
   "execution_count": 26,
   "metadata": {
    "scrolled": false
   },
   "outputs": [
    {
     "data": {
      "image/png": "[encoded data removed]",
      "text/plain": [
       "<Figure size 720x432 with 1 Axes>"
      ]
     },
     "metadata": {
      "needs_background": "light"
     },
     "output_type": "display_data"
    }
   ],
   "source": [
    "color = 'navy'\n",
    "\n",
    "fig, ax = plt.subplots(figsize=[10,6])\n",
    "\n",
    "ax.set_yscale('log')\n",
    "ax.hist(p_scipy, bins='sqrt', lw=0.25, color=color, edgecolor=color, alpha=0.6)\n",
    "\n",
    "ax.set_xlim(0)\n",
    "\n",
    "ax.set_xlabel(r'$\\vert \\psi \\vert ^2 $', fontsize=20)\n",
    "ax.set_ylabel(r'Bin count', fontsize=20)\n",
    "ax.tick_params(axis='both', which='major', labelsize=20)"
   ]
  },
  {
   "cell_type": "markdown",
   "metadata": {},
   "source": [
    "## The Hadamard transform"
   ]
  },
  {
   "cell_type": "code",
   "execution_count": 27,
   "metadata": {
    "scrolled": true
   },
   "outputs": [],
   "source": [
    "psi0 = logpsi.get_state_vector(normalized=True)\n",
    "target_state = eg.H(n=range(logpsi.nv), n_qubits=logpsi.nv).dot(psi0)"
   ]
  },
  {
   "cell_type": "code",
   "execution_count": null,
   "metadata": {},
   "outputs": [],
   "source": [
    "logpsi.nh/logpsi.nv"
   ]
  },
  {
   "cell_type": "code",
   "execution_count": 29,
   "metadata": {},
   "outputs": [],
   "source": [
    "r = 4"
   ]
  },
  {
   "cell_type": "code",
   "execution_count": 30,
   "metadata": {},
   "outputs": [],
   "source": [
    "if logpsi.nh/logpsi.nv < target_r:\n",
    "    logpsi.add_hidden_units(target_r*logpsi.nv - logpsi.nh)"
   ]
  },
  {
   "cell_type": "code",
   "execution_count": 31,
   "metadata": {},
   "outputs": [
    {
     "data": {
      "text/plain": [
       "4.0"
      ]
     },
     "execution_count": 31,
     "metadata": {},
     "output_type": "execute_result"
    }
   ],
   "source": [
    "logpsi.nh/logpsi.nv"
   ]
  },
  {
   "cell_type": "code",
   "execution_count": 32,
   "metadata": {},
   "outputs": [],
   "source": [
    "lr = 1e-1\n",
    "lrf = 8e-2\n",
    "# steps = 400\n",
    "# lr_tau = steps/np.log(lr/lrf)\n",
    "lr_tau = None\n",
    "lr_min = lrf"
   ]
  },
  {
   "cell_type": "code",
   "execution_count": 33,
   "metadata": {
    "scrolled": true
   },
   "outputs": [],
   "source": [
    "tol = 1e-6"
   ]
  },
  {
   "cell_type": "code",
   "execution_count": 34,
   "metadata": {
    "scrolled": false
   },
   "outputs": [
    {
     "name": "stdout",
     "output_type": "stream",
     "text": [
      "Qubit 1 starting...\n",
      "Iteration  145 | Fidelity = 0.9981 | lr = 0.100\n",
      "\n",
      "Qubit 1 done! Exact fidelity reached: 0.9931\n",
      "Total fidelity: 0.000019\n",
      "\n",
      "Qubit 2 starting...\n",
      "Iteration  153 | Fidelity = 0.0159 | lr = 0.100\n",
      "Iteration  309 | Fidelity = 0.3613 | lr = 0.100\n",
      "\n",
      "Qubit 2 done! Exact fidelity reached: 0.9973\n",
      "Total fidelity: 0.000016\n",
      "\n",
      "Qubit 3 starting...\n",
      "Iteration  153 | Fidelity = 0.9946 | lr = 0.100\n",
      "Iteration  302 | Fidelity = 0.9981 | lr = 0.100\n",
      "Iteration  433 | Fidelity = 0.9869 | lr = 0.100\n",
      "\n",
      "Qubit 3 done! Exact fidelity reached: 0.9955\n",
      "Total fidelity: 0.000083\n",
      "\n",
      "Qubit 4 starting...\n",
      "Iteration  136 | Fidelity = 0.9859 | lr = 0.100\n",
      "Iteration  285 | Fidelity = 0.9853 | lr = 0.100\n",
      "Iteration  426 | Fidelity = 0.9909 | lr = 0.100\n",
      "Iteration  578 | Fidelity = 0.9952 | lr = 0.100\n",
      "Iteration  722 | Fidelity = 0.9920 | lr = 0.100\n",
      "\n",
      "Qubit 4 done! Exact fidelity reached: 0.9937\n",
      "Total fidelity: 0.001020\n",
      "\n",
      "Qubit 5 starting...\n",
      "Iteration  144 | Fidelity = 0.9078 | lr = 0.100\n",
      "||Repeating optimization...||\n",
      "Iteration  138 | Fidelity = 0.8399 | lr = 0.100\n",
      "\n",
      "Qubit 5 done! Exact fidelity reached: 0.9665\n",
      "Total fidelity: 0.002628\n",
      "\n",
      "Qubit 6 starting...\n",
      "\n",
      "Qubit 6 done! Exact fidelity reached: 0.9974\n",
      "Total fidelity: 0.010097\n",
      "\n",
      "Qubit 7 starting...\n",
      "Iteration  139 | Fidelity = 0.9869 | lr = 0.100\n",
      "Iteration  283 | Fidelity = 1.0004 | lr = 0.100\n",
      "\n",
      "Qubit 7 done! Exact fidelity reached: 0.9944\n",
      "Total fidelity: 0.036500\n",
      "\n",
      "Qubit 8 starting...\n",
      "Iteration  135 | Fidelity = 0.9856 | lr = 0.100\n",
      "\n",
      "Qubit 8 done! Exact fidelity reached: 0.9848\n",
      "Total fidelity: 0.064835\n",
      "\n",
      "Qubit 9 starting...\n",
      "Iteration  140 | Fidelity = 0.7251 | lr = 0.100\n",
      "Iteration  278 | Fidelity = 0.8574 | lr = 0.100\n",
      "Iteration  413 | Fidelity = 0.9353 | lr = 0.100\n",
      "||Repeating optimization...||\n",
      "Iteration  132 | Fidelity = 0.8101 | lr = 0.100\n",
      "Iteration  261 | Fidelity = 0.8518 | lr = 0.100\n",
      "Iteration  394 | Fidelity = 0.9060 | lr = 0.100\n",
      "Iteration  529 | Fidelity = 0.9161 | lr = 0.100\n",
      "Iteration  662 | Fidelity = 0.9333 | lr = 0.100\n",
      "Iteration  793 | Fidelity = 0.9042 | lr = 0.100\n",
      "Iteration  925 | Fidelity = 0.9456 | lr = 0.100\n",
      "Iteration 1058 | Fidelity = 0.9503 | lr = 0.100\n",
      "||Repeating optimization...||\n",
      "Iteration  126 | Fidelity = 0.8224 | lr = 0.100\n",
      "||Repeating optimization...||\n",
      "Iteration  111 | Fidelity = 0.4269 | lr = 0.100\n",
      "Iteration  223 | Fidelity = 0.4541 | lr = 0.100\n",
      "Iteration  341 | Fidelity = 0.5941 | lr = 0.100\n",
      "Iteration  458 | Fidelity = 0.8913 | lr = 0.100\n",
      "Iteration  574 | Fidelity = 0.9308 | lr = 0.100\n",
      "Iteration  687 | Fidelity = 0.9628 | lr = 0.100\n",
      "Iteration  804 | Fidelity = 0.9899 | lr = 0.100\n",
      "Iteration  922 | Fidelity = 0.9852 | lr = 0.100\n",
      "Iteration 1040 | Fidelity = 0.9630 | lr = 0.100\n",
      "Iteration 1157 | Fidelity = 0.9785 | lr = 0.100\n",
      "Iteration 1273 | Fidelity = 0.9910 | lr = 0.100\n",
      "Iteration 1391 | Fidelity = 0.9788 | lr = 0.100\n",
      "\n",
      "Qubit 9 done! Exact fidelity reached: 0.9634\n",
      "Total fidelity: 0.000136\n",
      "\n",
      "Qubit 10 starting...\n",
      "Iteration  112 | Fidelity = 0.6745 | lr = 0.100\n",
      "Iteration  228 | Fidelity = 0.8243 | lr = 0.100\n",
      "Iteration  336 | Fidelity = 0.8400 | lr = 0.100\n",
      "Iteration  449 | Fidelity = 0.8760 | lr = 0.100\n",
      "Iteration  564 | Fidelity = 0.8871 | lr = 0.100\n",
      "Iteration  671 | Fidelity = 0.8870 | lr = 0.100\n",
      "Iteration  781 | Fidelity = 0.8849 | lr = 0.100\n",
      "Iteration  888 | Fidelity = 0.9285 | lr = 0.100\n",
      "Iteration  995 | Fidelity = 0.9027 | lr = 0.100\n",
      "||Repeating optimization...||\n",
      "Iteration  101 | Fidelity = 0.8019 | lr = 0.100\n",
      "Iteration  202 | Fidelity = 0.9023 | lr = 0.100\n",
      "Iteration  307 | Fidelity = 0.9074 | lr = 0.100\n",
      "Iteration  413 | Fidelity = 0.9905 | lr = 0.100\n",
      "Iteration  519 | Fidelity = 0.9367 | lr = 0.100\n",
      "Iteration  621 | Fidelity = 0.9610 | lr = 0.100\n",
      "Iteration  723 | Fidelity = 0.9169 | lr = 0.100\n",
      "Iteration  829 | Fidelity = 0.9938 | lr = 0.100\n",
      "\n",
      "Qubit 10 done! Exact fidelity reached: 0.9376\n",
      "Total fidelity: 0.853501\n",
      "\n",
      "CPU times: user 47min 48s, sys: 4min 37s, total: 52min 25s\n",
      "Wall time: 21min 7s\n"
     ]
    }
   ],
   "source": [
    "%%time\n",
    "\n",
    "for n in range(nv):\n",
    "    \n",
    "    psi0 = logpsi.get_state_vector(normalized=True)\n",
    "    phi = eg.H(n=n, n_qubits=logpsi.nv).dot(psi0)\n",
    "    \n",
    "    print('Qubit {} starting...'.format(n+1))\n",
    "    \n",
    "    while True:\n",
    "\n",
    "        a, b, W, Fs = hadamard_optimization(logpsi, n, tol=tol, lr=lr, lr_tau=lr_tau, lr_min=lr_min,\n",
    "                                           lookback=50, resample_phi=None, sigma=0.0, fidelity='mcmc',\n",
    "                                           psi_mcmc_params=(500,50,1), phi_mcmc_params=(500,50,1),\n",
    "                                           eps=1e-6, verbose=True)\n",
    "        \n",
    "        if Fs[-1] > 0.95:\n",
    "            logpsi.set_params(a=a, b=b, W=W)\n",
    "            logpsi.fold_imag_params()\n",
    "            break\n",
    "        else:\n",
    "            print('||Repeating optimization, adding {} hidden units||'.format(logpsi.nv//2))\n",
    "            logpsi.add_hidden_units(logpsi.nv//2)\n",
    "    \n",
    "    psi = logpsi.get_state_vector(normalized=True)\n",
    "    F = utils.exact_fidelity(psi, phi)\n",
    "    \n",
    "    print('\\nQubit {} done! Exact fidelity reached: {:05.4f}'.format(n+1, F))\n",
    "    print('Total fidelity: {:07.6f}\\n'.format(utils.exact_fidelity(psi, target_state)))"
   ]
  },
  {
   "cell_type": "code",
   "execution_count": 44,
   "metadata": {},
   "outputs": [
    {
     "data": {
      "text/plain": [
       "6.5"
      ]
     },
     "execution_count": 44,
     "metadata": {},
     "output_type": "execute_result"
    }
   ],
   "source": [
    "logpsi.nh/logpsi.nv"
   ]
  },
  {
   "cell_type": "markdown",
   "metadata": {},
   "source": [
    "Final state fidelity:"
   ]
  },
  {
   "cell_type": "code",
   "execution_count": 35,
   "metadata": {
    "scrolled": true
   },
   "outputs": [],
   "source": [
    "psi = logpsi.get_state_vector(normalized=True)"
   ]
  },
  {
   "cell_type": "code",
   "execution_count": 36,
   "metadata": {
    "scrolled": true
   },
   "outputs": [
    {
     "data": {
      "text/plain": [
       "0.8535012663123901"
      ]
     },
     "execution_count": 36,
     "metadata": {},
     "output_type": "execute_result"
    }
   ],
   "source": [
    "utils.exact_fidelity(psi, psi_scipy)"
   ]
  },
  {
   "cell_type": "code",
   "execution_count": 37,
   "metadata": {
    "scrolled": true
   },
   "outputs": [],
   "source": [
    "p = np.abs(psi)**2"
   ]
  },
  {
   "cell_type": "code",
   "execution_count": 38,
   "metadata": {
    "scrolled": true
   },
   "outputs": [
    {
     "data": {
      "text/plain": [
       "0.9999999999999954"
      ]
     },
     "execution_count": 38,
     "metadata": {},
     "output_type": "execute_result"
    }
   ],
   "source": [
    "p.sum()"
   ]
  },
  {
   "cell_type": "code",
   "execution_count": 77,
   "metadata": {
    "scrolled": false
   },
   "outputs": [
    {
     "data": {
      "image/png": "[encoded data removed]",
      "text/plain": [
       "<Figure size 720x432 with 1 Axes>"
      ]
     },
     "metadata": {
      "needs_background": "light"
     },
     "output_type": "display_data"
    }
   ],
   "source": [
    "fig, ax = plt.subplots(figsize=[10,6])\n",
    "\n",
    "ax.set_yscale('log')\n",
    "\n",
    "N = 2**logpsi.nv\n",
    "\n",
    "o = ax.hist(N*p_scipy, bins='sqrt', lw=0.25, density=True, color='firebrick', edgecolor='firebrick', alpha=0.6, label='Exact')\n",
    "ax.hist(N*p, bins='sqrt', lw=0.25, density=True, color='forestgreen', edgecolor='forestgreen', alpha=0.6, label='RBM')\n",
    "\n",
    "Nps = np.linspace(0, 7, 10)\n",
    "ax.plot(Nps, np.exp(-Nps), ls='--', lw=2, c='k', label='Porter-Thomas')\n",
    "\n",
    "ax.legend(frameon=True, fontsize=20)\n",
    "ax.set_xlim(0)\n",
    "ax.set_xlabel(r'$ N p $', fontsize=20)\n",
    "ax.set_ylabel(r'$ Pr(Np) $', fontsize=20)\n",
    "ax.tick_params(axis='both', which='major', labelsize=20)\n",
    "\n",
    "# plt.savefig('first_sim.pdf')"
   ]
  },
  {
   "cell_type": "code",
   "execution_count": null,
   "metadata": {
    "scrolled": true
   },
   "outputs": [],
   "source": []
  },
  {
   "cell_type": "code",
   "execution_count": null,
   "metadata": {},
   "outputs": [],
   "source": []
  },
  {
   "cell_type": "code",
   "execution_count": null,
   "metadata": {},
   "outputs": [],
   "source": []
  }
 ],
 "metadata": {
  "kernelspec": {
   "display_name": "QubitRBM",
   "language": "python",
   "name": "qubitrbm"
  },
  "language_info": {
   "codemirror_mode": {
    "name": "ipython",
    "version": 3
   },
   "file_extension": ".py",
   "mimetype": "text/x-python",
   "name": "python",
   "nbconvert_exporter": "python",
   "pygments_lexer": "ipython3",
   "version": "3.7.4"
  }
 },
 "nbformat": 4,
 "nbformat_minor": 4
}
